{
 "cells": [
  {
   "cell_type": "code",
   "execution_count": 1,
   "metadata": {},
   "outputs": [],
   "source": [
    "import pandas as pd\n",
    "import seaborn as sns\n",
    "import numpy as np\n",
    "import matplotlib.pyplot as plt\n",
    "%matplotlib inline\n"
   ]
  },
  {
   "cell_type": "code",
   "execution_count": 83,
   "metadata": {},
   "outputs": [],
   "source": [
    "df = pd.read_csv(\"songs.csv\")"
   ]
  },
  {
   "cell_type": "code",
   "execution_count": 84,
   "metadata": {},
   "outputs": [],
   "source": [
    "df[\"lyrics\"] = df[\"Lyrics\"].apply(lambda x: x.split(\"Lyrics\")[1])"
   ]
  },
  {
   "cell_type": "code",
   "execution_count": 85,
   "metadata": {},
   "outputs": [],
   "source": [
    "words = [\"verse\", \"bridge\", \"chorus\", \"intro\"]"
   ]
  },
  {
   "cell_type": "code",
   "execution_count": 86,
   "metadata": {},
   "outputs": [],
   "source": [
    "df[\"lyrics\"] = df[\"lyrics\"].apply(lambda x: x.replace(\"\\n\", \" \"))"
   ]
  },
  {
   "cell_type": "code",
   "execution_count": 87,
   "metadata": {},
   "outputs": [],
   "source": [
    "import string"
   ]
  },
  {
   "cell_type": "code",
   "execution_count": 88,
   "metadata": {},
   "outputs": [],
   "source": [
    "def text_process(mess):\n",
    "    nopunc = [char for char in mess if char not in string.punctuation]\n",
    "    nopunc = \"\".join(nopunc)\n",
    "    \n",
    "    return \"\".join((z for z in nopunc if not z.isdigit()))"
   ]
  },
  {
   "cell_type": "code",
   "execution_count": 89,
   "metadata": {},
   "outputs": [],
   "source": [
    "df[\"lyrics\"] = df[\"lyrics\"].apply(text_process)"
   ]
  },
  {
   "cell_type": "code",
   "execution_count": 90,
   "metadata": {},
   "outputs": [],
   "source": [
    "def text_processing(mess):\n",
    "    nopunc = [char for char in mess.split() if char.lower() not in words]\n",
    "    nopunc = \" \".join(nopunc)\n",
    "    \n",
    "    return nopunc"
   ]
  },
  {
   "cell_type": "code",
   "execution_count": 91,
   "metadata": {},
   "outputs": [],
   "source": [
    "df[\"lyrics\"] = df[\"lyrics\"].apply(text_processing)"
   ]
  },
  {
   "cell_type": "code",
   "execution_count": 109,
   "metadata": {},
   "outputs": [
    {
     "data": {
      "text/html": [
       "<div>\n",
       "<style scoped>\n",
       "    .dataframe tbody tr th:only-of-type {\n",
       "        vertical-align: middle;\n",
       "    }\n",
       "\n",
       "    .dataframe tbody tr th {\n",
       "        vertical-align: top;\n",
       "    }\n",
       "\n",
       "    .dataframe thead th {\n",
       "        text-align: right;\n",
       "    }\n",
       "</style>\n",
       "<table border=\"1\" class=\"dataframe\">\n",
       "  <thead>\n",
       "    <tr style=\"text-align: right;\">\n",
       "      <th></th>\n",
       "      <th>Name</th>\n",
       "      <th>Artist</th>\n",
       "      <th>Album</th>\n",
       "      <th>Popularity</th>\n",
       "      <th>Lyrics</th>\n",
       "      <th>lyrics</th>\n",
       "    </tr>\n",
       "  </thead>\n",
       "  <tbody>\n",
       "    <tr>\n",
       "      <th>0</th>\n",
       "      <td>Imagine - Remastered 2010</td>\n",
       "      <td>John Lennon</td>\n",
       "      <td>Imagine</td>\n",
       "      <td>79</td>\n",
       "      <td>8 ContributorsDiscographie 2021 — Pop &amp; Rock L...</td>\n",
       "      <td>Calendrier JANFÉVMARAVRMAIJUNJULAOÛSEPOCTNOVDÉ...</td>\n",
       "    </tr>\n",
       "    <tr>\n",
       "      <th>1</th>\n",
       "      <td>A Whiter Shade Of Pale</td>\n",
       "      <td>Procol Harum</td>\n",
       "      <td>A Whiter Shade Of Pale</td>\n",
       "      <td>0</td>\n",
       "      <td>38 ContributorsA Whiter Shade of Pale Lyrics[I...</td>\n",
       "      <td>We skipped the light fandango Turned cartwheel...</td>\n",
       "    </tr>\n",
       "    <tr>\n",
       "      <th>2</th>\n",
       "      <td>My Sweet Lord</td>\n",
       "      <td>George Harrison</td>\n",
       "      <td>All Things Must Pass (Remastered)</td>\n",
       "      <td>0</td>\n",
       "      <td>58 ContributorsMy Sweet Lord Lyrics[Chorus]\\nM...</td>\n",
       "      <td>My sweet Lord Mmm my Lord Mmm my Lord I really...</td>\n",
       "    </tr>\n",
       "    <tr>\n",
       "      <th>3</th>\n",
       "      <td>God Only Knows - Mono</td>\n",
       "      <td>The Beach Boys</td>\n",
       "      <td>Pet Sounds (Original Mono &amp; Stereo Mix)</td>\n",
       "      <td>67</td>\n",
       "      <td>1 ContributorGod Only Knows (mono mix) LyricsI...</td>\n",
       "      <td>I may not always love you But long as there ar...</td>\n",
       "    </tr>\n",
       "    <tr>\n",
       "      <th>4</th>\n",
       "      <td>Bridge Over Troubled Water</td>\n",
       "      <td>Simon &amp; Garfunkel</td>\n",
       "      <td>Bridge Over Troubled Water</td>\n",
       "      <td>72</td>\n",
       "      <td>57 ContributorsBridge Over Troubled Water Lyri...</td>\n",
       "      <td>When youre weary Feeling small When tears are ...</td>\n",
       "    </tr>\n",
       "    <tr>\n",
       "      <th>...</th>\n",
       "      <td>...</td>\n",
       "      <td>...</td>\n",
       "      <td>...</td>\n",
       "      <td>...</td>\n",
       "      <td>...</td>\n",
       "      <td>...</td>\n",
       "    </tr>\n",
       "    <tr>\n",
       "      <th>794</th>\n",
       "      <td>Thinking out Loud</td>\n",
       "      <td>Ed Sheeran</td>\n",
       "      <td>x (Deluxe Edition)</td>\n",
       "      <td>85</td>\n",
       "      <td>192 ContributorsTranslationsTürkçeEspañolPortu...</td>\n",
       "      <td>When your legs dont work like they used to bef...</td>\n",
       "    </tr>\n",
       "    <tr>\n",
       "      <th>795</th>\n",
       "      <td>Sorry</td>\n",
       "      <td>Justin Bieber</td>\n",
       "      <td>Purpose (Deluxe)</td>\n",
       "      <td>83</td>\n",
       "      <td>194 ContributorsTranslationsEspañolPortuguêsFr...</td>\n",
       "      <td>Written by Julia Michaels Justin Tranter and J...</td>\n",
       "    </tr>\n",
       "    <tr>\n",
       "      <th>796</th>\n",
       "      <td>Lean On (feat. MØ &amp; DJ Snake)</td>\n",
       "      <td>Major Lazer</td>\n",
       "      <td>Major Lazer Essentials</td>\n",
       "      <td>30</td>\n",
       "      <td>3 ContributorsTop Tracks of 2016 - Global Lyri...</td>\n",
       "      <td>Drake One Dance feat Kyla WizKid Mike Posner I...</td>\n",
       "    </tr>\n",
       "    <tr>\n",
       "      <th>797</th>\n",
       "      <td>Take Me To Church</td>\n",
       "      <td>Hozier</td>\n",
       "      <td>The Singer Songwriter</td>\n",
       "      <td>25</td>\n",
       "      <td>339 ContributorsTranslationsفارسیEspañolFrança...</td>\n",
       "      <td>Produced by Hozier and Rob Kirwan Video direct...</td>\n",
       "    </tr>\n",
       "    <tr>\n",
       "      <th>798</th>\n",
       "      <td>King</td>\n",
       "      <td>Years &amp; Years</td>\n",
       "      <td>Communion (Deluxe)</td>\n",
       "      <td>63</td>\n",
       "      <td>37 ContributorsKing Lyrics[Verse 1]\\nI caught ...</td>\n",
       "      <td>I caught you watching me under the light Can I...</td>\n",
       "    </tr>\n",
       "  </tbody>\n",
       "</table>\n",
       "<p>799 rows × 6 columns</p>\n",
       "</div>"
      ],
      "text/plain": [
       "                              Name             Artist  \\\n",
       "0        Imagine - Remastered 2010        John Lennon   \n",
       "1           A Whiter Shade Of Pale       Procol Harum   \n",
       "2                    My Sweet Lord    George Harrison   \n",
       "3            God Only Knows - Mono     The Beach Boys   \n",
       "4       Bridge Over Troubled Water  Simon & Garfunkel   \n",
       "..                             ...                ...   \n",
       "794              Thinking out Loud         Ed Sheeran   \n",
       "795                          Sorry      Justin Bieber   \n",
       "796  Lean On (feat. MØ & DJ Snake)        Major Lazer   \n",
       "797              Take Me To Church             Hozier   \n",
       "798                           King      Years & Years   \n",
       "\n",
       "                                       Album  Popularity  \\\n",
       "0                                    Imagine          79   \n",
       "1                     A Whiter Shade Of Pale           0   \n",
       "2          All Things Must Pass (Remastered)           0   \n",
       "3    Pet Sounds (Original Mono & Stereo Mix)          67   \n",
       "4                 Bridge Over Troubled Water          72   \n",
       "..                                       ...         ...   \n",
       "794                       x (Deluxe Edition)          85   \n",
       "795                         Purpose (Deluxe)          83   \n",
       "796                   Major Lazer Essentials          30   \n",
       "797                    The Singer Songwriter          25   \n",
       "798                       Communion (Deluxe)          63   \n",
       "\n",
       "                                                Lyrics  \\\n",
       "0    8 ContributorsDiscographie 2021 — Pop & Rock L...   \n",
       "1    38 ContributorsA Whiter Shade of Pale Lyrics[I...   \n",
       "2    58 ContributorsMy Sweet Lord Lyrics[Chorus]\\nM...   \n",
       "3    1 ContributorGod Only Knows (mono mix) LyricsI...   \n",
       "4    57 ContributorsBridge Over Troubled Water Lyri...   \n",
       "..                                                 ...   \n",
       "794  192 ContributorsTranslationsTürkçeEspañolPortu...   \n",
       "795  194 ContributorsTranslationsEspañolPortuguêsFr...   \n",
       "796  3 ContributorsTop Tracks of 2016 - Global Lyri...   \n",
       "797  339 ContributorsTranslationsفارسیEspañolFrança...   \n",
       "798  37 ContributorsKing Lyrics[Verse 1]\\nI caught ...   \n",
       "\n",
       "                                                lyrics  \n",
       "0    Calendrier JANFÉVMARAVRMAIJUNJULAOÛSEPOCTNOVDÉ...  \n",
       "1    We skipped the light fandango Turned cartwheel...  \n",
       "2    My sweet Lord Mmm my Lord Mmm my Lord I really...  \n",
       "3    I may not always love you But long as there ar...  \n",
       "4    When youre weary Feeling small When tears are ...  \n",
       "..                                                 ...  \n",
       "794  When your legs dont work like they used to bef...  \n",
       "795  Written by Julia Michaels Justin Tranter and J...  \n",
       "796  Drake One Dance feat Kyla WizKid Mike Posner I...  \n",
       "797  Produced by Hozier and Rob Kirwan Video direct...  \n",
       "798  I caught you watching me under the light Can I...  \n",
       "\n",
       "[799 rows x 6 columns]"
      ]
     },
     "execution_count": 109,
     "metadata": {},
     "output_type": "execute_result"
    }
   ],
   "source": [
    "df"
   ]
  },
  {
   "cell_type": "code",
   "execution_count": 93,
   "metadata": {},
   "outputs": [],
   "source": [
    "from sklearn.feature_extraction.text import TfidfVectorizer\n",
    "from sklearn.metrics.pairwise import cosine_similarity\n",
    "import difflib\n",
    "from sklearn.preprocessing import StandardScaler"
   ]
  },
  {
   "cell_type": "code",
   "execution_count": 94,
   "metadata": {},
   "outputs": [],
   "source": [
    "selected_column = [\"Name\", \"Artist\", \"Album\", \"lyrics\"]"
   ]
  },
  {
   "cell_type": "code",
   "execution_count": 95,
   "metadata": {},
   "outputs": [],
   "source": [
    "for feature in selected_column:\n",
    "    df[feature] = df[feature].fillna(\"\")"
   ]
  },
  {
   "cell_type": "code",
   "execution_count": 96,
   "metadata": {},
   "outputs": [],
   "source": [
    "combined = df[\"Name\"] +\"\"+df[\"Artist\"]+\"\"+df[\"Album\"]+\"\"+df[\"lyrics\"] "
   ]
  },
  {
   "cell_type": "code",
   "execution_count": 99,
   "metadata": {},
   "outputs": [],
   "source": [
    "tf = TfidfVectorizer()\n",
    "feature_vect = tf.fit_transform(combined)\n",
    "similar = cosine_similarity(feature_vect)"
   ]
  },
  {
   "cell_type": "code",
   "execution_count": 104,
   "metadata": {},
   "outputs": [],
   "source": [
    "list_of_titles = df[\"Name\"].tolist()"
   ]
  },
  {
   "cell_type": "code",
   "execution_count": 105,
   "metadata": {},
   "outputs": [
    {
     "name": "stdout",
     "output_type": "stream",
     "text": [
      "['Imagine - Remastered 2010', 'A Whiter Shade Of Pale', 'My Sweet Lord', 'God Only Knows - Mono', 'Bridge Over Troubled Water', 'Bohemian Rhapsody - Remastered 2011', 'Stairway to Heaven - Remaster', 'All Along the Watchtower', 'Hotel California - 2013 Remaster', '“Heroes” - Single Version; 2014 Remaster', 'In the Ghetto', 'Johnny B. Goode - Single Version', 'Alive', 'Let It Be - Remastered', 'Paranoid', 'I Heard It Through The Grapevine', 'Smells Like Teen Spirit', 'Life on Mars? - 2015 Remaster', \"You Can't Always Get What You Want - Single Version\", 'Every Breath You Take - Remastered 2003', 'Tears in Heaven', 'Like a Rolling Stone', 'One', 'Light My Fire', 'A Day In The Life - Remastered', 'Ring of Fire', \"(I Can't Get No) Satisfaction - Mono Version / Remastered 2002\", 'No Woman, No Cry - Live At The Lyceum, London/1975', 'Waterloo Sunset - Mono Version', 'Sunshine Of Your Love', 'Be My Baby', 'Unchained Melody', 'Your Song', 'Oh, Pretty Woman', 'Heart of Gold - 2009 Remaster', 'Billie Jean', 'Crazy - Single Version', 'Whole Lotta Love - 1990 Remaster', 'If You Leave Me Now', \"Don't Stop Believin'\", \"For What It's Worth\", 'Dancing Queen', 'Jump - 2015 Remaster', 'Love Me Tender - From the 20th Century-Fox CinemaScope Production, \"Love Me Tender\"', 'Wonderful Tonight', 'You Send Me - Remastered', \"California Dreamin'\", 'Born to Run', 'My Generation - Stereo Version', 'Smoke On The Water - Remastered 2012', 'All You Need Is Love - Remastered', \"(We're Gonna) Rock Around The Clock - Single Version\", 'The Weight - Remastered', 'You Really Got Me - Remastered', 'Baby Love - Juke Box Single Version', 'Morning Has Broken', 'House of the Rising Sun', 'Mrs. Robinson - From \"The Graduate\" Soundtrack', 'Oye Como Va', 'Here Comes The Sun - Remastered', 'Just Like a Woman', 'Bad Moon Rising', \"I Can't Stop Loving You\", 'Born To Be Wild', 'White Christmas', 'Nothing Compares 2 U - 2009 Remaster', 'I Will Always Love You', 'Highway to Hell', 'Walk on By', 'Louie Louie', \"Knockin' On Heaven's Door\", 'Suspicious Minds', \"She's A Rainbow - Stereo Full Version / With Intro\", 'La Vie en rose', \"Can't Help Falling in Love\", 'Happy Together', 'Hey Jude - Remastered 2015', 'Make Me Smile (Come up and See Me) - 2014 Remaster', 'Wannabe', \"Don't Speak\", 'Always Be My Baby', 'Ironic - 2015 Remaster', 'California Love - Original Version', 'Freed From Desire', 'Lovefool', '1979 - Remastered 2012', 'Return of the Mack', 'Because You Loved Me (Theme from \"Up Close and Personal\")', 'What I Got', \"They Don't Care About Us\", 'Coco Jamboo', \"Don't Look Back In Anger - Remastered\", 'One Headlight', 'Children', 'All Eyez On Me (ft. Big Syke)', 'Have You Ever Really Loved A Woman?', 'Tha Crossroads', 'Un-Break My Heart', \"Doin' Time\", 'You Oughta Know - 2015 Remaster', 'Twisted', \"Say You'll Be There\", 'How Do U Want It (ft. K-Ci & JoJo)', 'All By Myself', 'If You Could Only See', 'Change the World', 'Where Do You Go', 'Born Slippy (Nuxx)', \"Only God Can Judge Me (ft. Rappin' 4-Tay)\", '2 Become 1', 'How Bizarre', 'Fastlove, Pt. 1', 'I Finally Found Someone (feat. Bryan Adams)', 'You Were Meant For Me', 'Burden In My Hand', 'If It Makes You Happy', 'No Woman, No Cry', 'How Deep Is Your Love', 'You Learn - 2015 Remaster', 'One Of Us - Short Version', 'Lady', \"You're Makin' Me High\", 'Hey Lover', 'Look On Down From The Bridge', 'Barely Breathing', 'Jesus to a Child', 'Rotterdam (Or Anywhere)', 'Fire Water Burn', \"We Gonna Take U Back (Lude) / Don't Leave Me\", 'Born Slippy (Nuxx) - Radio Edit', 'Til I Hear It From You', \"Guess Who's Back\", 'Virtual Insanity - Remastered', \"When You're Gone\", 'Novocaine For The Soul', 'Only You (feat. The Notorious B.I.G.) - Radio Mix', 'Everyday Is A Winding Road', 'Bow Down', 'Follow You Down - Edit', 'María - Pablo Flores Spanglish Radio Edit', 'In My Bed - So So Def Mix', 'Why I Love You So Much', 'One & One (feat. Maria Nayler)', \"You're Gorgeous\", 'Words', 'A Design for Life - Remastered', 'Cold Rock a Party', 'Falling Into You', 'Hush', 'Sexy Eyes', 'Firestarter', 'Good Enough', \"Sittin' Up In My Room - from Waiting to Exhale - Original Soundtrack\", \"Let's Make A Night To Remember\", 'Hit Me Off', 'Insomnia - Radio Edit', 'Bellissima - Radio Edit', \"Don't Stop Movin' - Radio Mix\", 'Spaceman', 'That Girl', \"We've Got It Goin' On - Radio Edit\", 'The Only Thing That Looks Good On Me Is You', 'Give Me A Little More Time', 'If You Ever (feat. Gabrielle) - Smoove Mix 7\"', 'Ella Baila Sola', 'un x100to', 'La Bebe - Remix', 'Cupid - Twin Ver.', 'Flowers', 'Daylight', 'Kill Bill', 'As It Was', 'TQG', 'Classy 101', 'Tattoo', 'PRC', 'BESO', 'El Azul', \"Creepin' (with The Weeknd & 21 Savage)\", 'See You Again (feat. Kali Uchis)', 'Calm Down (with Selena Gomez)', 'Yandel 150', 'Die For You (with Ariana Grande) - Remix', 'Cha Cha Cha', \"Boy's a Liar Pt. 2\", 'Anti-Hero', 'Last Night', 'Die For You', 'AMG', 'I Wanna Be Yours', 'All My Life (feat. J. Cole)', \"I'm Good (Blue)\", 'Like Crazy', 'Acróstico', 'Here With Me', 'Angels Like You', 'golden hour', 'Until I Found You (with Em Beihold) - Em Beihold Version', 'Shakira: Bzrp Music Sessions, Vol. 53', 'Por las Noches', 'Moonlight', 'Unholy (feat. Kim Petras)', 'Another Love', 'Cruel Summer', 'Starboy', \"I Ain't Worried\", 'Hey Mor', 'La Bachata', 'People', 'The Planet', 'El Gordo Trae El Mando', 'FLOWER', 'Mockingbird', 'Frágil', 'Cha Cha Cha', 'Obsessed', 'Little Girl Gone', 'Koinu no Carnival -From \"Minute Waltz\"-', 'Fictional', 'Daylight', 'Carpe Diem', 'Tattoo', 'Keep Dat Nigga', 'Jericho', 'GOOD LOYAL THOTS', 'Who the Hell Is Edgar?', 'Area Codes', 'NARCISSISTIC PERSONALITY DISORDER', 'Sea Of Problems', 'Ella Baila Sola', 'Mama ŠČ!', 'TABU.', 'Ela Voltou de Perna Bamba', 'Because Of You', 'un x100to', 'Cupid - Twin Ver.', 'Queen of Kings', 'Promise', 'Haryana Hood', 'Bye', 'Giving Me', 'Break a Broken Heart', 'Soarele si Luna', 'Frágil', 'Perfume', 'Solo', 'Watergun', 'Samo mi se spava', \"My Sister's Crown\", 'Évidemment', 'アイドル', 'Nanti Kita Seperti Ini', 'Bridges', 'Past Lives', 'Future Lover', 'Canın Sağ Olsun', 'La Fiesta', 'Na Contramão', 'Unicorn', 'Be My Lover (feat. La Bouche) - 2023 Mix', 'What It Is (Solo Version)', \"Somebody's Pleasure\", 'Gladiator', 'Tak Segampang Itu', 'Lose Yourself', 'The Real Slim Shady', 'My Name Is', \"Is This Love ('09) (feat. 50 Cent)\", 'Lucky You (feat. Joyner Lucas)', \"Cleanin' Out My Closet\", 'Not Afraid', 'The Way I Am', 'Love The Way You Lie', 'Higher', 'Guns Blazing (feat. Dr. Dre & Sly Pyper)', 'Unaccommodating (feat. Young M.A)', 'You Gon’ Learn (feat. Royce Da 5\\'9\" & White Gold)', 'The Adventures of Moon Man & Slim Shady (with Eminem)', 'From The D 2 The LBC (with Snoop Dogg)', 'Last One Standing (feat. Polo G, Mozzy & Eminem) - From Venom: Let There Be Carnage', 'Those Kinda Nights (feat. Ed Sheeran)', 'Godzilla (feat. Juice WRLD)', 'Yah Yah (feat. Royce Da 5\\'9\", Black Thought, Q-Tip & Denaun)', 'The Ringer', 'Venom - Music From The Motion Picture', 'Homicide (feat. Eminem)', 'Without Me', 'Mockingbird', \"When I'm Gone\", 'River (feat. Ed Sheeran)', 'Sing For The Moment', 'I Need A Doctor', 'Forgot About Dre', 'Beautiful', 'Superman', 'Like Toy Soldiers', 'Shake That', 'Cinderella Man', 'Just Lose It', 'The Monster', 'Space Bound', 'Crack A Bottle', 'No Love', 'We Made You', \"What's The Difference\", 'White America', 'Ass Like That', 'Legacy', \"That's All She Wrote\", 'Smack That', 'In Your Head', 'Survival', \"You Don't Know\", 'Drop The World', '25 To Life', 'Role Model', 'Bitch Please II', 'Forever', 'Berzerk', 'Patiently Waiting', 'Renegade', 'Guilty Conscience', 'Bad Guy', 'Tragic Endings (feat. Skylar Grey)', 'Wreckage', 'Daylight', 'Chemical', 'Need A Favor', 'Miracle (with Ellie Goulding)', 'Gold', 'Curtains', 'Wish You The Best', 'Fast Car', 'REACT', 'HAPPY', 'Out Of That Truck', \"How I'm Feeling Now\", 'TRUSTFALL', 'People', 'Eyes Closed', 'Players', 'Never Be Mine', 'Die For You (with Ariana Grande) - Remix', 'Sad in the Summer (feat. Lily Rose)', 'ceilings', \"I'm Not Here To Make Friends\", 'I Wrote A Song', \"Somethin' Bout You\", 'Eyes Wide Shut', 'Karma', 'Heaven', 'Here', 'If He Wanted To He Would', 'Whistle (feat. Calum Scott)', 'Never Look Back', 'Stars Like Confetti', 'El Merengue', 'Heart Wants What It Wants', 'Dancing is Healing', 'Last Night', 'Flowers', 'Ella Baila Sola', 'Next Thing You Know', 'Favorite Song', 'Thank God I Do', '5 Leaf Clover', 'Alone (with Nicki Minaj)', 'Hell N Back', 'Peaches', 'Meltdown', 'Rush', 'Handle On You', 'Live Without Love', 'Man Made A Bar (feat. Eric Church)', 'Shakira: Bzrp Music Sessions, Vol. 53', \"Haven't You Ever Been In Love Before?\", 'Bops', \"I'll Be Lovin' You\", 'Strange', 'Waffle House', 'Double Fantasy (with Future)', 'How Does It Feel', 'Dance Around It', 'Middle Ground', 'Dawns (feat. Maggie Rogers)', 'The Planet', 'Calm Down (with Selena Gomez)', 'Like Crazy', 'Fantasy (with GAYLE & Em Beihold)', 'Eat Your Young', 'I Like You (A Happier Song) (with Doja Cat)', 'Your Heart Or Mine', 'Lavender Haze', \"Baby Don't Hurt Me\", 'All Of The Girls You Loved Before', 'Giving Up On That', 'UNHEALTHY (feat. Shania Twain)', 'All The Way Over', 'SNAP', 'Made You Look', 'The Kind of Love We Make', 'Cha Cha Cha', 'Cupid - Twin Ver.', 'When Love Sucks (feat. Dido)', 'TQG', 'We Ride', 'If We Ever Broke Up', 'Memory Lane', \"I'm Good (Blue)\", 'LosT', 'Disco Voyager', 'un x100to', 'Anti-Hero', 'All By Myself', 'Trouble', 'Tattoo', 'Dance All Over Me', 'You Didn’t', 'How You Samba', 'saddest soundtrack', 'Unholy (feat. Kim Petras)', 'Outskirts', 'Never Gonna Not Dance Again', 'Eyes On You', 'Last Night', 'Kill Bill', 'Flowers', 'Ella Baila Sola', 'Reflections', 'Calm Down (with Selena Gomez)', \"Creepin' (with The Weeknd & 21 Savage)\", 'un x100to', 'Favorite Song', 'Queen of Belle la Vie', 'Die For You - Remix', 'Anti-Hero', 'Fast Car', \"Boy's a Liar Pt. 2\", 'Old School', 'Sure Thing', 'Search & Rescue', 'Rock and A Hard Place', 'Cupid', 'The Tide Is Rising', 'You Proof', 'Eyes Closed', 'Players', 'Chemical', 'Shinyplasticpeople', 'Something in the Orange', 'As It Was', 'Thinkin’ Bout Me', 'Dancin’ In The Country', 'What Is Real?', \"I'm Good (Blue)\", 'One Thing At A Time', 'Thank God', 'Thought You Should Know', 'Gold Leaf', 'Tennessee Orange', 'Snooze', 'Under The Influence', 'Princess Diana (with Nicki Minaj)', 'Mr. Invisible', 'Por las Noches', 'Karma', 'Unholy (feat. Kim Petras)', 'Just Wanna Rock', 'Next Thing You Know', 'Wild as Her', 'SLUT ME OUT', 'Spin Bout U', 'Superhero (Heroes & Villains) [with Future & Chris Brown]', 'Handle On You', 'Rich Flex', 'Escapism.', 'Lavender Haze', 'Double Fantasy (with Future)', 'Love You Anyway', 'Daylight', 'Area Codes', 'Chanel', 'El Azul', 'Bebe Dame', 'Go Hard', 'Nonsense', 'Cowgirls (feat. ERNEST)', 'Need A Favor', 'Low Down', 'Human', 'Ain’t That Some', 'Religiously', 'ICU', 'Fight The Feeling', 'Red Ruby Da Sleeze', 'Memory Lane', 'BESO', 'Frágil', 'It Matters To Her', 'Que Vuelvas', 'I Wrote The Book', 'Trance (with Travis Scott & Young Thug)', 'PAINTING PICTURES', 'Everything I Love', 'Man Made A Bar (feat. Eric Church)', 'Waffle House', 'In Ha Mood', 'Moonlight', 'Forever (feat. Fridayy)', 'You, Me, And Whiskey', 'Sunrise', 'ceilings', 'SHAKE SUMN', 'People', 'Never Felt So Alone', 'HAPPY', 'Wreckage', 'Curtains', 'What It Is (Block Boy) (with Kodak Black)', 'Peaches', 'Private Landing (feat. Justin Bieber & Future)', 'Miracle (with Ellie Goulding)', 'Tattoo', 'Daylight', 'Eyes Closed', 'Wish You The Best', 'Cha Cha Cha', 'Calm Down', 'REACT', 'I Wrote A Song', 'Queen of Kings', 'Cupid', 'As It Was', 'Chemical', 'Giving Me', \"Baby Don't Hurt Me\", 'Flowers', 'All My Life (feat. J. Cole)', 'People', 'Whistle (feat. Calum Scott)', 'Green Green Grass', 'If We Ever Broke Up', 'Dancing is Healing', 'CUFF IT', 'Hell N Back', 'See You Again (feat. Kali Uchis)', 'MATHEMATICAL DISRESPECT', 'Anti-Hero', 'Life Goes On', \"Can't Tame Her\", 'Last Night', 'Curtains', 'Tony Soprano 2', \"Boy's a Liar\", 'Mountain', 'Kill Bill', 'Waffle House', 'Search & Rescue', 'Heat Waves', 'Rush', 'Creep', 'Heaven', 'Escapism.', 'Calendar', 'Unicorn', 'Princess Diana', 'Healing', 'Who the Hell Is Edgar?', 'Maria Maria (feat. The Product G&B)', 'Die For You', 'Sure Thing', 'Forget Me', 'Side Effects', \"I'm Good (Blue)\", 'Flip A Switch.', 'Solo', 'ceilings', 'Maria Maria', 'messy in heaven', 'LosT', 'Karma', 'Energy', 'Because Of You', \"I Ain't Worried\", 'Soweto (with Don Toliver, Rema and Tempoe)', 'Area Codes', 'Never Felt So Alone', 'Relax My Eyes', 'hotline (edit)', 'TMO (Turn Me On) [feat. Kevin Lyttle]', 'Satellite', 'Real Back In Style', 'Double Fantasy (with Future)', \"Creepin' (with The Weeknd & 21 Savage)\", 'Someone You Loved', 'Peaches', 'White Ash', 'Dance Around It', 'Promise', 'live more & love more', 'Players', 'Alone (with Nicki Minaj)', 'Afraid To Feel', 'Make Me', 'Back 2 Back (feat. Potter Payper)', 'Too Many Nights (feat. Don Toliver & with Future)', 'Another Love', 'Fast Car', 'B.O.T.A. (Baddest Of Them All) - Edit', 'A Year Ago', 'Break a Broken Heart', 'Different League (feat. Nafe Smallz and Clavish)', 'Évidemment', 'Heart of Steel - Eurovision Version', 'Made You Look', 'golden hour', 'Rhyme Dust', '10:35', 'Give It To Me - Full Vocal Mix', 'As It Was', 'Bad Habits', 'Peru', 'go', 'Shivers', 'Running Up That Hill (A Deal With God)', 'Heat Waves', 'Where Are You Now', 'Afraid To Feel', 'Seventeen Going Under', \"We Don't Talk About Bruno\", 'Make Me Feel Good', 'Cold Heart - PNAU Remix', 'Starlight', 'Green Green Grass', 'Where Did You Go? (feat. MNEK)', 'abc (nicer)', 'Baby', 'About Damn Time', \"I Ain't Worried\", 'Crazy What Love Can Do', 'Easy On Me', 'Down Under (feat. Colin Hay)', 'B.O.T.A. (Baddest Of Them All) - Edit', \"I'm Good (Blue)\", 'Last Last', 'Another Love', 'First Class', 'Mr. Brightside', 'STAY (with Justin Bieber)', 'Unholy (feat. Kim Petras)', 'Late Night Talking', 'Overseas', 'Bam Bam (feat. Ed Sheeran)', 'All I Want for Christmas Is You', 'Save Your Tears', 'BREAK MY SOUL', 'Surface Pressure', 'Forget Me', 'House On Fire', 'BMW', 'Blinding Lights', 'Under The Influence', 'IFTK', \"she's all i wanna be\", 'WAIT FOR U (feat. Drake & Tems)', 'Perfect', 'Overpass Graffiti', 'Remember', 'Someone You Loved', 'Anyone For You (Tiger Lily)', '21 Reasons (feat. Ella Henderson)', 'Levitating', 'The Motto', 'Bad Habit', 'Anti-Hero', 'Enemy (with JID) - from the series Arcane League of Legends', 'Fingers Crossed', 'Ghost', 'Ferrari', '505', 'Big City Life', 'SPACE MAN', 'Shape of You', 'Happier Than Ever', 'Riptide', 'Coming for You (feat. A1 x J1)', 'Watermelon Sugar', 'Doja', 'Iris', 'Dreams - 2004 Remaster', 'No Excuses', 'The Family Madrigal', 'love nwantiti (ah ah ah)', 'Music For a Sushi Restaurant', 'Wonderwall', 'Sweater Weather', 'Do It To It', 'Location (feat. Burna Boy)', 'Do I Wanna Know?', 'Woman', 'Yellow', 'CUFF IT', 'Make You Smile', 'Everywhere - 2017 Remaster', 'Flowers (Say My Name)', 'Super Freaky Girl', 'Clash (feat. Stormzy)', 'My Heart Goes (La Di Da)', 'Lost', 'Baby Shark', 'Stay the Night', \"Don't Stop Me Now - Remastered 2011\", 'INDUSTRY BABY (feat. Jack Harlow)', 'Uptown Funk (feat. Bruno Mars)', 'Cheerleader (Felix Jaehn Remix) - Radio Edit', 'Love Me Like You Do - From \"Fifty Shades Of Grey\"', 'See You Again (feat. Charlie Puth)', 'Lay Me Down', 'Someone New', 'Worth It (feat. Kid Ink)', 'All Cried Out (feat. Alex Newell) - Radio Edit', 'Lay It All on Me (feat. Ed Sheeran)', 'Downtown (feat. Melle Mel, Grandmaster Caz, Kool Moe Dee & Eric Nally)', 'Wings', 'Perfect', 'Bang Bang', 'Heartbeat Song', 'Lay Me Down - Single Version', 'Bad Blood', 'Sax', 'Rather Be (feat. Jess Glynne)', 'Outside (feat. Ellie Goulding)', 'Trouble', 'Somebody', '679 (feat. Monty)', 'All of Me', 'Real Love', \"I'm Not The Only One - Radio Edit\", 'Freak Of The Week', 'Five More Hours', 'On My Mind', 'All About That Bass', 'Stole the Show', 'When the Beat Drops Out', 'Intoxicated - Radio Edit', 'Gravity (feat. Ella Eyre) - Radio Edit', 'Say Something', \"I Don't Like It, I Love It (feat. Robin Thicke & Verdine White)\", 'Blank Space', 'What I Did for Love (feat. Emeli Sandé)', 'Fight Song', 'Peanut Butter Jelly', 'Show Me Love', \"Ain't Nobody (Loves Me Better)\", 'Do It Again', \"Runnin' (Lose It All)\", 'Like I Can - Radio Mix', 'Waiting For Love', 'Writing\\'s On The Wall - From \"Spectre\" Soundtrack', 'Hey Mama (feat. Nicki Minaj, Bebe Rexha & Afrojack) - Afrojack Remix', 'Easy Love', 'Lips Are Movin', 'Locked Away (feat. Adam Levine)', 'House Every Weekend - Radio Edit', 'Heroes (we could be)', 'Drag Me Down', 'Never Forget You', 'Bills', 'I Really Like You', 'Hotline Bling', 'Chandelier', \"Don't Be so Hard on Yourself\", 'Ayo', 'Not Letting Go (feat. Jess Glynne)', 'Up (feat. Demi Lovato) - Wideboys Radio Mix', 'Marvin Gaye (feat. Meghan Trainor)', 'Bloodstream', 'Elastic Heart', 'Runaway (U & I)', 'The Nights', 'Photograph', 'Wish You Were Mine - Radio Edit', 'Earned It (Fifty Shades Of Grey) - From The \"Fifty Shades Of Grey\" Soundtrack', 'The Hills', 'Love Yourself', 'Firestone', \"Can't Feel My Face\", 'How Deep Is Your Love', 'Shut Up and Dance', 'FourFiveSeconds', 'Are You With Me - Radio Edit', 'Want to Want Me', 'Where Are Ü Now (with Justin Bieber)', 'Sugar', 'Thinking out Loud', 'Sorry', 'Lean On (feat. MØ & DJ Snake)', 'Take Me To Church', 'King']\n"
     ]
    }
   ],
   "source": [
    "print(list_of_titles)"
   ]
  },
  {
   "cell_type": "code",
   "execution_count": 114,
   "metadata": {},
   "outputs": [],
   "source": [
    "def music_recommend():\n",
    "    movie = input(\"Enter movie title: \")\n",
    "    \n",
    "    find_close_match = difflib.get_close_matches(movie, list_of_titles)\n",
    "    close_match = find_close_match[0]\n",
    "    movie_index = df[df.Name == close_match].index.values[0]\n",
    "    similar_score = list(enumerate(similar[movie_index]))\n",
    "    sorted_list = sorted(similar_score, key = lambda x:x[1], reverse = True)\n",
    "    \n",
    "    \n",
    "    print (\"Movie recommended are: \")\n",
    "\n",
    "    i = 1\n",
    "\n",
    "    for film in sorted_list:\n",
    "        index = film[0]\n",
    "        title_movie  = df[df.index == index][\"Name\"].values[0]\n",
    "        artist = df[df.index == index][\"Artist\"].values[0]\n",
    "        if (i<31):\n",
    "            print(i, \".\",artist, \": \", title_movie)\n",
    "            i+=1"
   ]
  },
  {
   "cell_type": "code",
   "execution_count": 116,
   "metadata": {},
   "outputs": [
    {
     "name": "stdout",
     "output_type": "stream",
     "text": [
      "Movie recommended are: \n",
      "1 . Bob Dylan :  Just Like a Woman\n",
      "2 . Doja Cat :  Woman\n",
      "3 . Bryan Adams :  Have You Ever Really Loved A Woman?\n",
      "4 . Céline Dion :  Because You Loved Me (Theme from \"Up Close and Personal\")\n",
      "5 . Roy Orbison :  Oh, Pretty Woman\n",
      "6 . Zara Larsson :  Can't Tame Her\n",
      "7 . Scotty McCreery :  It Matters To Her\n",
      "8 . Ice Spice :  In Ha Mood\n",
      "9 . Corey Kent :  Wild as Her\n",
      "10 . Bailey Zimmerman :  Religiously\n",
      "11 . Maxi Priest :  That Girl\n",
      "12 . The Beatles :  All You Need Is Love - Remastered\n",
      "13 . D-Block Europe :  Overseas\n",
      "14 . T.I. :  That's All She Wrote\n",
      "15 . Aitch :  Baby\n",
      "16 . Tonic :  If You Could Only See\n",
      "17 . OMI :  Cheerleader (Felix Jaehn Remix) - Radio Edit\n",
      "18 . Eminem :  Is This Love ('09) (feat. 50 Cent)\n",
      "19 . Eminem :  Love The Way You Lie\n",
      "20 . Nicky Youre :  Eyes On You\n",
      "21 . Eric Clapton :  Wonderful Tonight\n",
      "22 . WALK THE MOON :  Shut Up and Dance\n",
      "23 . The Kinks :  Waterloo Sunset - Mono Version\n",
      "24 . Post Malone :  I Like You (A Happier Song) (with Doja Cat)\n",
      "25 . Lil Mabu :  MATHEMATICAL DISRESPECT\n",
      "26 . Sam Smith :  I'm Not The Only One - Radio Edit\n",
      "27 . Eminem :  When I'm Gone\n",
      "28 . Eminem :  Beautiful\n",
      "29 . The Band That Saved The World :  Queen of Belle la Vie\n",
      "30 . Manic Street Preachers :  A Design for Life - Remastered\n"
     ]
    }
   ],
   "source": [
    "music_recommend()"
   ]
  }
 ],
 "metadata": {
  "kernelspec": {
   "display_name": "Python 3",
   "language": "python",
   "name": "python3"
  },
  "language_info": {
   "codemirror_mode": {
    "name": "ipython",
    "version": 3
   },
   "file_extension": ".py",
   "mimetype": "text/x-python",
   "name": "python",
   "nbconvert_exporter": "python",
   "pygments_lexer": "ipython3",
   "version": "3.10.5"
  },
  "orig_nbformat": 4
 },
 "nbformat": 4,
 "nbformat_minor": 2
}
